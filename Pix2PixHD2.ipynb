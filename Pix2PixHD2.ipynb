{
  "nbformat": 4,
  "nbformat_minor": 0,
  "metadata": {
    "colab": {
      "name": "Pix2PixHD.ipynb",
      "provenance": [],
      "collapsed_sections": [],
      "toc_visible": true,
      "machine_shape": "hm",
      "include_colab_link": true
    },
    "kernelspec": {
      "name": "python3",
      "display_name": "Python 3"
    },
    "accelerator": "GPU"
  },
  "cells": [
    {
      "cell_type": "markdown",
      "metadata": {
        "id": "view-in-github",
        "colab_type": "text"
      },
      "source": [
        "<a href=\"https://colab.research.google.com/github/pdanahy/ML-public/blob/main/Pix2PixHD2.ipynb\" target=\"_parent\"><img src=\"https://colab.research.google.com/assets/colab-badge.svg\" alt=\"Open In Colab\"/></a>"
      ]
    },
    {
      "cell_type": "markdown",
      "metadata": {
        "id": "0LhgqS5-viUe"
      },
      "source": [
        "#Pix2PixHD"
      ]
    },
    {
      "cell_type": "markdown",
      "metadata": {
        "id": "h6McJaBNtcBm"
      },
      "source": [
        "Mount Drive"
      ]
    },
    {
      "cell_type": "code",
      "metadata": {
        "colab": {
          "base_uri": "https://localhost:8080/"
        },
        "id": "-N2Pt1ITpKUB",
        "outputId": "3b131e3e-1280-4af8-f193-f43bbe82a4e6"
      },
      "source": [
        "#@title\n",
        "from google.colab import drive\n",
        "drive.mount('/content/drive', force_remount=True)"
      ],
      "execution_count": 1,
      "outputs": [
        {
          "output_type": "stream",
          "name": "stdout",
          "text": [
            "Mounted at /content/drive\n"
          ]
        }
      ]
    },
    {
      "cell_type": "code",
      "metadata": {
        "id": "YtgeDzVStqSr",
        "outputId": "f364d781-cb5d-43fb-ed00-c0ff8fabc2b6",
        "colab": {
          "base_uri": "https://localhost:8080/"
        }
      },
      "source": [
        "#@title\n",
        "!nvidia-smi -L"
      ],
      "execution_count": 13,
      "outputs": [
        {
          "output_type": "stream",
          "name": "stdout",
          "text": [
            "shell-init: error retrieving current directory: getcwd: cannot access parent directories: Transport endpoint is not connected\n",
            "GPU 0: Tesla P100-PCIE-16GB (UUID: GPU-d5375cb8-81db-4f18-3824-dbc307cb04a5)\n"
          ]
        }
      ]
    },
    {
      "cell_type": "code",
      "metadata": {
        "id": "AmQllL9MtltV",
        "outputId": "92956bd0-bd9f-4284-9ae3-73bf6d378201",
        "colab": {
          "base_uri": "https://localhost:8080/"
        }
      },
      "source": [
        "#@title\n",
        "import os\n",
        "if os.path.isdir(\"/content/drive/MyDrive/pix2pixHD/\"):\n",
        "    %cd /content/drive/MyDrive/pix2pixHD/\n",
        "    # !git pull\n",
        "    !pip install dominate\n",
        "else:\n",
        "    %cd /content/drive/MyDrive\n",
        "    !git clone -b video https://github.com/dvschultz/pix2pixHD.git\n",
        "    !pip install dominate\n",
        "    %cd pix2pixHD/"
      ],
      "execution_count": 2,
      "outputs": [
        {
          "output_type": "stream",
          "name": "stdout",
          "text": [
            "/content/drive/MyDrive/pix2pixHD\n",
            "Collecting dominate\n",
            "  Downloading dominate-2.6.0-py2.py3-none-any.whl (29 kB)\n",
            "Installing collected packages: dominate\n",
            "Successfully installed dominate-2.6.0\n"
          ]
        }
      ]
    },
    {
      "cell_type": "code",
      "metadata": {
        "colab": {
          "base_uri": "https://localhost:8080/"
        },
        "id": "nTZMpwPDlUJ3",
        "outputId": "79911570-6309-4320-d3f1-a73109bf1995"
      },
      "source": [
        "!python\n",
        "import torch\n",
        "torch.cuda.empty_cache()"
      ],
      "execution_count": null,
      "outputs": [
        {
          "output_type": "stream",
          "text": [
            "Python 3.6.9 (default, Oct  8 2020, 12:12:24) \n",
            "[GCC 8.4.0] on linux\n",
            "Type \"help\", \"copyright\", \"credits\" or \"license\" for more information.\n",
            ">>> import torch\n",
            ">>> torch.cuda.empty_cache()\n",
            ">>> exit()\n"
          ],
          "name": "stdout"
        }
      ]
    },
    {
      "cell_type": "code",
      "metadata": {
        "colab": {
          "base_uri": "https://localhost:8080/"
        },
        "id": "xS1j9zGj4zPK",
        "outputId": "f90c3f3e-0343-40cd-8f97-1fe5b6f13fea"
      },
      "source": [
        "!python train.py --dataroot /content/drive/MyDrive/pix2pixHD/datasets/buildingFacades --name LtoB --label_nc 0 --no_instance --save_epoch_freq 8"
      ],
      "execution_count": null,
      "outputs": [
        {
          "output_type": "stream",
          "text": [
            "Traceback (most recent call last):\n",
            "  File \"train.py\", line 96, in <module>\n",
            "    optimizer_D.step()        \n",
            "  File \"/usr/local/lib/python3.6/dist-packages/torch/autograd/grad_mode.py\", line 26, in decorate_context\n",
            "    return func(*args, **kwargs)\n",
            "  File \"/usr/local/lib/python3.6/dist-packages/torch/optim/adam.py\", line 119, in step\n",
            "    group['eps']\n",
            "  File \"/usr/local/lib/python3.6/dist-packages/torch/optim/functional.py\", line 98, in adam\n",
            "    param.addcdiv_(exp_avg, denom, value=-step_size)\n",
            "KeyboardInterrupt\n"
          ],
          "name": "stdout"
        }
      ]
    },
    {
      "cell_type": "code",
      "metadata": {
        "id": "N7m-hp9T6U9m"
      },
      "source": [
        "!python train.py --dataroot /content/drive/MyDrive/pix2pixHD/datasets/cannyFacades --name LtocB --label_nc 0 --no_instance --save_epoch_freq 8 --continue_train"
      ],
      "execution_count": null,
      "outputs": []
    },
    {
      "cell_type": "code",
      "metadata": {
        "id": "ylLO9Qy9woON"
      },
      "source": [
        "!python test.py --dataroot /content/drive/MyDrive/pix2pixHD/datasets/buildingFacades --name buildingFacades --netG global --label_nc 0 --no_instance --how_many 20 --checkpoints_dir /content/drive/MyDrive/pix2pixHD/trained --which_epoch 200"
      ],
      "execution_count": null,
      "outputs": []
    }
  ]
}