{
  "nbformat": 4,
  "nbformat_minor": 0,
  "metadata": {
    "colab": {
      "name": "Pix2PixHD.ipynb",
      "provenance": [],
      "collapsed_sections": [],
      "toc_visible": true,
      "machine_shape": "hm",
      "include_colab_link": true
    },
    "kernelspec": {
      "name": "python3",
      "display_name": "Python 3"
    },
    "accelerator": "GPU"
  },
  "cells": [
    {
      "cell_type": "markdown",
      "metadata": {
        "id": "view-in-github",
        "colab_type": "text"
      },
      "source": [
        "<a href=\"https://colab.research.google.com/github/pdanahy/ML-public/blob/main/Pix2PixHD2.ipynb\" target=\"_parent\"><img src=\"https://colab.research.google.com/assets/colab-badge.svg\" alt=\"Open In Colab\"/></a>"
      ]
    },
    {
      "cell_type": "markdown",
      "metadata": {
        "id": "0LhgqS5-viUe"
      },
      "source": [
        "#Pix2PixHD"
      ]
    },
    {
      "cell_type": "code",
      "metadata": {
        "id": "sFwyFXCw3f5Z",
        "colab": {
          "base_uri": "https://localhost:8080/"
        },
        "outputId": "23396e28-940d-49ff-c5f6-a148550b6b08"
      },
      "source": [
        "#run this cell once per session\n",
        "!git clone https://github.com/NVIDIA/pix2pixHD\n",
        "!pip install dominate\n",
        "%cd pix2pixHD\n",
        "%mkdir trained"
      ],
      "execution_count": 1,
      "outputs": [
        {
          "output_type": "stream",
          "text": [
            "Cloning into 'pix2pixHD'...\n",
            "remote: Enumerating objects: 340, done.\u001b[K\n",
            "remote: Total 340 (delta 0), reused 0 (delta 0), pack-reused 340\u001b[K\n",
            "Receiving objects: 100% (340/340), 55.68 MiB | 40.32 MiB/s, done.\n",
            "Resolving deltas: 100% (156/156), done.\n",
            "Collecting dominate\n",
            "  Downloading https://files.pythonhosted.org/packages/ef/a8/4354f8122c39e35516a2708746d89db5e339c867abbd8e0179bccee4b7f9/dominate-2.6.0-py2.py3-none-any.whl\n",
            "Installing collected packages: dominate\n",
            "Successfully installed dominate-2.6.0\n",
            "/content/pix2pixHD\n"
          ],
          "name": "stdout"
        }
      ]
    },
    {
      "cell_type": "code",
      "metadata": {
        "id": "kTQ55Lgx311P"
      },
      "source": [
        "#create a folder to hold your checkpoints edit the line below and run it\n",
        "%mkdir trained//terrain\n",
        "%mkdir datasets/terrain\n",
        "%mkdir datasets/terrain/test_A\n"
      ],
      "execution_count": 2,
      "outputs": []
    },
    {
      "cell_type": "code",
      "metadata": {
        "colab": {
          "base_uri": "https://localhost:8080/"
        },
        "id": "-N2Pt1ITpKUB",
        "outputId": "292b980a-9123-4b89-8446-cfab939add94"
      },
      "source": [
        "from google.colab import drive\n",
        "drive.mount('/content/drive')"
      ],
      "execution_count": 8,
      "outputs": [
        {
          "output_type": "stream",
          "text": [
            "Drive already mounted at /content/drive; to attempt to forcibly remount, call drive.mount(\"/content/drive\", force_remount=True).\n"
          ],
          "name": "stdout"
        }
      ]
    },
    {
      "cell_type": "code",
      "metadata": {
        "colab": {
          "base_uri": "https://localhost:8080/"
        },
        "id": "nTZMpwPDlUJ3",
        "outputId": "79911570-6309-4320-d3f1-a73109bf1995"
      },
      "source": [
        "!python\r\n",
        "import torch\r\n",
        "torch.cuda.empty_cache()"
      ],
      "execution_count": 4,
      "outputs": [
        {
          "output_type": "stream",
          "text": [
            "Python 3.6.9 (default, Oct  8 2020, 12:12:24) \n",
            "[GCC 8.4.0] on linux\n",
            "Type \"help\", \"copyright\", \"credits\" or \"license\" for more information.\n",
            ">>> import torch\n",
            ">>> torch.cuda.empty_cache()\n",
            ">>> exit()\n"
          ],
          "name": "stdout"
        }
      ]
    },
    {
      "cell_type": "code",
      "metadata": {
        "colab": {
          "base_uri": "https://localhost:8080/"
        },
        "id": "xS1j9zGj4zPK",
        "outputId": "f90c3f3e-0343-40cd-8f97-1fe5b6f13fea"
      },
      "source": [
        "!python train.py --dataroot /content/drive/MyDrive/pix2pixHD/datasets/terrain --name EtoT --label_nc 0 --no_instance --save_epoch_freq 2"
      ],
      "execution_count": 11,
      "outputs": [
        {
          "output_type": "stream",
          "text": [
            "Traceback (most recent call last):\n",
            "  File \"train.py\", line 96, in <module>\n",
            "    optimizer_D.step()        \n",
            "  File \"/usr/local/lib/python3.6/dist-packages/torch/autograd/grad_mode.py\", line 26, in decorate_context\n",
            "    return func(*args, **kwargs)\n",
            "  File \"/usr/local/lib/python3.6/dist-packages/torch/optim/adam.py\", line 119, in step\n",
            "    group['eps']\n",
            "  File \"/usr/local/lib/python3.6/dist-packages/torch/optim/functional.py\", line 98, in adam\n",
            "    param.addcdiv_(exp_avg, denom, value=-step_size)\n",
            "KeyboardInterrupt\n"
          ],
          "name": "stdout"
        }
      ]
    },
    {
      "cell_type": "code",
      "metadata": {
        "id": "ylLO9Qy9woON"
      },
      "source": [
        "!python test.py --dataroot /content/drive/MyDrive/pix2pixHD/datasets/terrain --name terrain --netG global --label_nc 0 --no_instance --how_many 20 --checkpoints_dir /content/drive/MyDrive/pix2pixHD/trained --which_epoch 200"
      ],
      "execution_count": null,
      "outputs": []
    },
    {
      "cell_type": "code",
      "metadata": {
        "id": "XdBG9MPv1cVl"
      },
      "source": [
        "!nvidia-smi"
      ],
      "execution_count": null,
      "outputs": []
    },
    {
      "cell_type": "code",
      "metadata": {
        "id": "kPQzhmwx3P9_"
      },
      "source": [
        "ls checkpoints/w"
      ],
      "execution_count": null,
      "outputs": []
    },
    {
      "cell_type": "code",
      "metadata": {
        "id": "iZ5J5oXq3TF3"
      },
      "source": [
        ""
      ],
      "execution_count": null,
      "outputs": []
    }
  ]
}